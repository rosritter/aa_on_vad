{
 "cells": [
  {
   "cell_type": "code",
   "execution_count": 1,
   "metadata": {},
   "outputs": [
    {
     "name": "stdout",
     "output_type": "stream",
     "text": [
      "/home/timur.bikbulatov/personal/aa_on_vad\n"
     ]
    },
    {
     "name": "stderr",
     "output_type": "stream",
     "text": [
      "/home/timur.bikbulatov/miniconda3/envs/aaml/lib/python3.11/site-packages/IPython/core/magics/osm.py:417: UserWarning: This is now an optional IPython functionality, setting dhist requires you to install the `pickleshare` library.\n",
      "  self.shell.db['dhist'] = compress_dhist(dhist)[-100:]\n"
     ]
    },
    {
     "data": {
      "text/plain": [
       "'/home/timur.bikbulatov/personal/aa_on_vad'"
      ]
     },
     "execution_count": 1,
     "metadata": {},
     "output_type": "execute_result"
    }
   ],
   "source": [
    "%cd ../\n",
    "%pwd"
   ]
  },
  {
   "cell_type": "code",
   "execution_count": 2,
   "metadata": {},
   "outputs": [],
   "source": [
    "import soundfile as sf\n",
    "from pathlib import Path\n",
    "import numpy as np\n",
    "import torch\n",
    "import IPython\n",
    "from functools import partial\n",
    "play = partial(IPython.display.Audio,\n",
    "               rate=16000)\n",
    "playr = IPython.display.Audio"
   ]
  },
  {
   "cell_type": "code",
   "execution_count": 3,
   "metadata": {},
   "outputs": [],
   "source": [
    "import plotly.graph_objects as go\n",
    "\n",
    "\n",
    "def plot(y:list):\n",
    "    trace = []\n",
    "    colors = [\n",
    "        'Blue',\n",
    "        'Orange',\n",
    "        'Green',\n",
    "        'Red',\n",
    "        'Purple',\n",
    "        'Magenta',\n",
    "        'Cyan',\n",
    "        'Brown',\n",
    "        'Pink',\n",
    "        'Lime',\n",
    "        'Yellow',\n",
    "        'Teal',\n",
    "        'Olive',\n",
    "        'Navy',\n",
    "        'Maroon',\n",
    "        'Coral',\n",
    "        'Gold',\n",
    "        'Indigo',\n",
    "        'Turquoise',\n",
    "        'Lavender',\n",
    "        'Mint',\n",
    "        'Silver',\n",
    "        ]\n",
    "    for ik, y_ in enumerate(y):\n",
    "        trace.append(go.Scatter(x=np.arange(len(y_)), y=y_, mode='lines', name=f'arg # {ik + 1}', line=dict(color=colors[ik])))\n",
    "\n",
    "    # Combining both traces into one figure\n",
    "    fig = go.Figure(data=trace)\n",
    "\n",
    "    # Setting the layout\n",
    "    fig.update_layout(\n",
    "        title='Two Line Charts on One Plot',\n",
    "        xaxis_title='X-axis',\n",
    "        yaxis_title='Y-axis',\n",
    "        showlegend=True\n",
    "    )\n",
    "\n",
    "    # Display the plot\n",
    "    fig.show()"
   ]
  },
  {
   "cell_type": "code",
   "execution_count": 4,
   "metadata": {},
   "outputs": [],
   "source": [
    "from src.datasets.mixed_vad_datset import get_datset\n",
    "from src.models.adversarial_models.CNN1d_based import NoiseGenerator\n",
    "from src.models.silero.evaluate_model import validate_silero_vad, print_metrics\n",
    "import src.models.silero.train as tl\n",
    "from src.models.silero.loss import AdversarialLoss"
   ]
  },
  {
   "cell_type": "code",
   "execution_count": 5,
   "metadata": {},
   "outputs": [
    {
     "name": "stdout",
     "output_type": "stream",
     "text": [
      "Loading dataset...\n",
      "Dataset loaded!\n"
     ]
    }
   ],
   "source": [
    "print('Loading dataset...')\n",
    "train_ds = get_datset(mode='train', erase_silence=True)\n",
    "eval_ds = get_datset(mode='eval', erase_silence=True)\n",
    "print('Dataset loaded!')"
   ]
  },
  {
   "cell_type": "code",
   "execution_count": 6,
   "metadata": {},
   "outputs": [
    {
     "name": "stdout",
     "output_type": "stream",
     "text": [
      "RecursiveScriptModule(\n",
      "  original_name=VADRNNJITMerge\n",
      "  (_model): RecursiveScriptModule(\n",
      "    original_name=VADRNNJIT\n",
      "    (stft): RecursiveScriptModule(\n",
      "      original_name=STFT\n",
      "      (padding): RecursiveScriptModule(original_name=ReflectionPad1d)\n",
      "    )\n",
      "    (encoder): RecursiveScriptModule(\n",
      "      original_name=Sequential\n",
      "      (0): RecursiveScriptModule(\n",
      "        original_name=SileroVadBlock\n",
      "        (se): RecursiveScriptModule(original_name=Identity)\n",
      "        (activation): RecursiveScriptModule(original_name=ReLU)\n",
      "        (reparam_conv): RecursiveScriptModule(original_name=Conv1d)\n",
      "      )\n",
      "      (1): RecursiveScriptModule(\n",
      "        original_name=SileroVadBlock\n",
      "        (se): RecursiveScriptModule(original_name=Identity)\n",
      "        (activation): RecursiveScriptModule(original_name=ReLU)\n",
      "        (reparam_conv): RecursiveScriptModule(original_name=Conv1d)\n",
      "      )\n",
      "      (2): RecursiveScriptModule(\n",
      "        original_name=SileroVadBlock\n",
      "        (se): RecursiveScriptModule(original_name=Identity)\n",
      "        (activation): RecursiveScriptModule(original_name=ReLU)\n",
      "        (reparam_conv): RecursiveScriptModule(original_name=Conv1d)\n",
      "      )\n",
      "      (3): RecursiveScriptModule(\n",
      "        original_name=SileroVadBlock\n",
      "        (se): RecursiveScriptModule(original_name=Identity)\n",
      "        (activation): RecursiveScriptModule(original_name=ReLU)\n",
      "        (reparam_conv): RecursiveScriptModule(original_name=Conv1d)\n",
      "      )\n",
      "    )\n",
      "    (decoder): RecursiveScriptModule(\n",
      "      original_name=VADDecoderRNNJIT\n",
      "      (rnn): RecursiveScriptModule(original_name=LSTMCell)\n",
      "      (decoder): RecursiveScriptModule(\n",
      "        original_name=Sequential\n",
      "        (0): RecursiveScriptModule(original_name=Dropout)\n",
      "        (1): RecursiveScriptModule(original_name=ReLU)\n",
      "        (2): RecursiveScriptModule(original_name=Conv1d)\n",
      "        (3): RecursiveScriptModule(original_name=Sigmoid)\n",
      "      )\n",
      "    )\n",
      "  )\n",
      "  (_model_8k): RecursiveScriptModule(\n",
      "    original_name=VADRNNJIT\n",
      "    (stft): RecursiveScriptModule(\n",
      "      original_name=STFT\n",
      "      (padding): RecursiveScriptModule(original_name=ReflectionPad1d)\n",
      "    )\n",
      "    (encoder): RecursiveScriptModule(\n",
      "      original_name=Sequential\n",
      "      (0): RecursiveScriptModule(\n",
      "        original_name=SileroVadBlock\n",
      "        (se): RecursiveScriptModule(original_name=Identity)\n",
      "        (activation): RecursiveScriptModule(original_name=ReLU)\n",
      "        (reparam_conv): RecursiveScriptModule(original_name=Conv1d)\n",
      "      )\n",
      "      (1): RecursiveScriptModule(\n",
      "        original_name=SileroVadBlock\n",
      "        (se): RecursiveScriptModule(original_name=Identity)\n",
      "        (activation): RecursiveScriptModule(original_name=ReLU)\n",
      "        (reparam_conv): RecursiveScriptModule(original_name=Conv1d)\n",
      "      )\n",
      "      (2): RecursiveScriptModule(\n",
      "        original_name=SileroVadBlock\n",
      "        (se): RecursiveScriptModule(original_name=Identity)\n",
      "        (activation): RecursiveScriptModule(original_name=ReLU)\n",
      "        (reparam_conv): RecursiveScriptModule(original_name=Conv1d)\n",
      "      )\n",
      "      (3): RecursiveScriptModule(\n",
      "        original_name=SileroVadBlock\n",
      "        (se): RecursiveScriptModule(original_name=Identity)\n",
      "        (activation): RecursiveScriptModule(original_name=ReLU)\n",
      "        (reparam_conv): RecursiveScriptModule(original_name=Conv1d)\n",
      "      )\n",
      "    )\n",
      "    (decoder): RecursiveScriptModule(\n",
      "      original_name=VADDecoderRNNJIT\n",
      "      (rnn): RecursiveScriptModule(original_name=LSTMCell)\n",
      "      (decoder): RecursiveScriptModule(\n",
      "        original_name=Sequential\n",
      "        (0): RecursiveScriptModule(original_name=Dropout)\n",
      "        (1): RecursiveScriptModule(original_name=ReLU)\n",
      "        (2): RecursiveScriptModule(original_name=Conv1d)\n",
      "        (3): RecursiveScriptModule(original_name=Sigmoid)\n",
      "      )\n",
      "    )\n",
      "  )\n",
      ")\n"
     ]
    },
    {
     "name": "stderr",
     "output_type": "stream",
     "text": [
      "Using cache found in /home/timur.bikbulatov/.cache/torch/hub/snakers4_silero-vad_master\n"
     ]
    }
   ],
   "source": [
    "model, utils = torch.hub.load(repo_or_dir='snakers4/silero-vad', model='silero_vad')\n",
    "print(model)"
   ]
  },
  {
   "cell_type": "code",
   "execution_count": 7,
   "metadata": {},
   "outputs": [],
   "source": [
    "device = torch.device('cuda:0' if torch.cuda.is_available() else 'cpu')\n",
    "model = model.to(device)"
   ]
  },
  {
   "cell_type": "code",
   "execution_count": 8,
   "metadata": {},
   "outputs": [],
   "source": [
    "amodel = NoiseGenerator().to(device)"
   ]
  },
  {
   "cell_type": "code",
   "execution_count": 12,
   "metadata": {},
   "outputs": [
    {
     "name": "stderr",
     "output_type": "stream",
     "text": [
      "  0%|          | 1/262 [00:00<00:59,  4.36it/s]/home/timur.bikbulatov/personal/aa_on_vad/src/datasets/urbansound.py:27: UserWarning: To copy construct from a tensor, it is recommended to use sourceTensor.clone().detach() or sourceTensor.clone().detach().requires_grad_(True), rather than torch.tensor(sourceTensor).\n",
      "  audio = torch.tensor(self.audios[idx], dtype=torch.float32)\n",
      "100%|██████████| 262/262 [00:13<00:00, 18.73it/s]\n"
     ]
    },
    {
     "name": "stdout",
     "output_type": "stream",
     "text": [
      "precision: 0.8369\n",
      "recall: 0.9049\n",
      "f1_score: 0.8696\n",
      "accuracy: 0.8867\n",
      "false_positive_rate: 0.1264\n",
      "true_positive_rate: 0.9049\n",
      "roc_auc: 0.8892\n"
     ]
    }
   ],
   "source": [
    "metrics = validate_silero_vad(\n",
    "        model,\n",
    "        eval_ds,\n",
    "        1,\n",
    "        # noise_producer,\n",
    "    )\n",
    "print_metrics(metrics)"
   ]
  },
  {
   "cell_type": "code",
   "execution_count": 61,
   "metadata": {},
   "outputs": [
    {
     "data": {
      "text/plain": [
       "<module 'src.models.silero.train' from '/home/timur.bikbulatov/personal/aa_on_vad/src/models/silero/train.py'>"
      ]
     },
     "execution_count": 61,
     "metadata": {},
     "output_type": "execute_result"
    }
   ],
   "source": [
    "import importlib\n",
    "importlib.reload(tl)"
   ]
  },
  {
   "cell_type": "code",
   "execution_count": 9,
   "metadata": {},
   "outputs": [
    {
     "name": "stdout",
     "output_type": "stream",
     "text": [
      "Noise producer model has 25903393 parametes\n"
     ]
    },
    {
     "name": "stderr",
     "output_type": "stream",
     "text": [
      "Epoch 0:   0%|          | 0/66 [00:00<?, ?it/s]"
     ]
    },
    {
     "name": "stderr",
     "output_type": "stream",
     "text": [
      "/home/timur.bikbulatov/personal/aa_on_vad/src/datasets/urbansound.py:27: UserWarning: To copy construct from a tensor, it is recommended to use sourceTensor.clone().detach() or sourceTensor.clone().detach().requires_grad_(True), rather than torch.tensor(sourceTensor).\n",
      "  audio = torch.tensor(self.audios[idx], dtype=torch.float32)\n",
      "Epoch 0: 100%|██████████| 66/66 [03:28<00:00,  3.16s/it, loss=0.0177]\n"
     ]
    },
    {
     "name": "stdout",
     "output_type": "stream",
     "text": [
      "Epoch 0: Train Loss = 0.0311\n"
     ]
    },
    {
     "name": "stderr",
     "output_type": "stream",
     "text": [
      "Evaluation: 100%|██████████| 9/9 [00:12<00:00,  1.37s/it]\n"
     ]
    },
    {
     "name": "stdout",
     "output_type": "stream",
     "text": [
      "Epoch 0: Eval Loss = 0.2677\n"
     ]
    },
    {
     "name": "stderr",
     "output_type": "stream",
     "text": [
      "Epoch 1: 100%|██████████| 66/66 [03:28<00:00,  3.17s/it, loss=0.0002] \n"
     ]
    },
    {
     "name": "stdout",
     "output_type": "stream",
     "text": [
      "Epoch 1: Train Loss = 0.0035\n"
     ]
    },
    {
     "name": "stderr",
     "output_type": "stream",
     "text": [
      "Evaluation: 100%|██████████| 9/9 [00:12<00:00,  1.37s/it]\n"
     ]
    },
    {
     "name": "stdout",
     "output_type": "stream",
     "text": [
      "Epoch 1: Eval Loss = 0.0038\n"
     ]
    },
    {
     "name": "stderr",
     "output_type": "stream",
     "text": [
      "Epoch 2: 100%|██████████| 66/66 [03:28<00:00,  3.17s/it, loss=-0.0184]\n"
     ]
    },
    {
     "name": "stdout",
     "output_type": "stream",
     "text": [
      "Epoch 2: Train Loss = -0.0012\n"
     ]
    },
    {
     "name": "stderr",
     "output_type": "stream",
     "text": [
      "Evaluation: 100%|██████████| 9/9 [00:12<00:00,  1.38s/it]"
     ]
    },
    {
     "name": "stdout",
     "output_type": "stream",
     "text": [
      "Epoch 2: Eval Loss = -0.1288\n"
     ]
    },
    {
     "name": "stderr",
     "output_type": "stream",
     "text": [
      "\n"
     ]
    }
   ],
   "source": [
    "tl.train_noise_producer(\n",
    "        amodel,\n",
    "        model,\n",
    "        train_ds,\n",
    "        eval_ds,\n",
    "        epochs=3,\n",
    "        criterion=AdversarialLoss(alpha=10)\n",
    "    )"
   ]
  },
  {
   "cell_type": "code",
   "execution_count": 10,
   "metadata": {},
   "outputs": [
    {
     "name": "stderr",
     "output_type": "stream",
     "text": [
      "100%|██████████| 9/9 [00:30<00:00,  3.34s/it]\n"
     ]
    },
    {
     "name": "stdout",
     "output_type": "stream",
     "text": [
      "precision: 0.7866\n",
      "recall: 0.4122\n",
      "f1_score: 0.5409\n",
      "accuracy: 0.7079\n",
      "false_positive_rate: 0.0802\n",
      "true_positive_rate: 0.4122\n",
      "roc_auc: 0.6660\n"
     ]
    }
   ],
   "source": [
    "metrics = validate_silero_vad(\n",
    "        model,\n",
    "        eval_ds,\n",
    "        32,\n",
    "        amodel,\n",
    "    )\n",
    "print_metrics(metrics)"
   ]
  },
  {
   "cell_type": "code",
   "execution_count": null,
   "metadata": {},
   "outputs": [],
   "source": [
    "i=9\n",
    "wav = eval_ds[i]['sample']\n",
    "mask = eval_ds[i]['mask']\n",
    "noise = amodel(wav.unsqueeze(0).to(device)).detach().cpu()\n",
    "plot([wav, mask, noise[0], wav+noise[0]])"
   ]
  },
  {
   "cell_type": "code",
   "execution_count": null,
   "metadata": {},
   "outputs": [],
   "source": [
    "play(wav+amodel(wav.unsqueeze(0).to(device)).detach().cpu())"
   ]
  },
  {
   "cell_type": "code",
   "execution_count": null,
   "metadata": {},
   "outputs": [],
   "source": [
    "play(noise)"
   ]
  },
  {
   "cell_type": "code",
   "execution_count": 67,
   "metadata": {},
   "outputs": [
    {
     "data": {
      "text/plain": [
       "torch.Size([96000])"
      ]
     },
     "execution_count": 67,
     "metadata": {},
     "output_type": "execute_result"
    }
   ],
   "source": [
    "wav.shape"
   ]
  },
  {
   "cell_type": "code",
   "execution_count": null,
   "metadata": {},
   "outputs": [],
   "source": []
  }
 ],
 "metadata": {
  "kernelspec": {
   "display_name": "aaml",
   "language": "python",
   "name": "python3"
  },
  "language_info": {
   "codemirror_mode": {
    "name": "ipython",
    "version": 3
   },
   "file_extension": ".py",
   "mimetype": "text/x-python",
   "name": "python",
   "nbconvert_exporter": "python",
   "pygments_lexer": "ipython3",
   "version": "3.11.10"
  }
 },
 "nbformat": 4,
 "nbformat_minor": 2
}
