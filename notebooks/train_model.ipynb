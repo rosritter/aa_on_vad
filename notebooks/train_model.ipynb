{
 "cells": [
  {
   "cell_type": "code",
   "execution_count": 1,
   "metadata": {},
   "outputs": [
    {
     "name": "stdout",
     "output_type": "stream",
     "text": [
      "/home/rr/Documents/GitProj/aa_on_vad\n"
     ]
    },
    {
     "name": "stderr",
     "output_type": "stream",
     "text": [
      "/home/rr/anaconda3/envs/aaml/lib/python3.11/site-packages/IPython/core/magics/osm.py:417: UserWarning: This is now an optional IPython functionality, setting dhist requires you to install the `pickleshare` library.\n",
      "  self.shell.db['dhist'] = compress_dhist(dhist)[-100:]\n"
     ]
    },
    {
     "data": {
      "text/plain": [
       "'/home/rr/Documents/GitProj/aa_on_vad'"
      ]
     },
     "execution_count": 1,
     "metadata": {},
     "output_type": "execute_result"
    }
   ],
   "source": [
    "%cd ../\n",
    "%pwd"
   ]
  },
  {
   "cell_type": "code",
   "execution_count": 2,
   "metadata": {},
   "outputs": [],
   "source": [
    "import soundfile as sf\n",
    "from pathlib import Path\n",
    "import numpy as np\n",
    "import torch\n",
    "import IPython\n",
    "from functools import partial\n",
    "play = partial(IPython.display.Audio,\n",
    "               rate=16000)\n",
    "playr = IPython.display.Audio"
   ]
  },
  {
   "cell_type": "code",
   "execution_count": 46,
   "metadata": {},
   "outputs": [],
   "source": [
    "import plotly.graph_objects as go\n",
    "\n",
    "\n",
    "def plot(y:list, names:list=None, X=None):\n",
    "    trace = []\n",
    "    colors = [\n",
    "        'Blue',\n",
    "        'Orange',\n",
    "        'Green',\n",
    "        'Red',\n",
    "        'Purple',\n",
    "        'Magenta',\n",
    "        'Cyan',\n",
    "        'Brown',\n",
    "        'Pink',\n",
    "        'Lime',\n",
    "        'Yellow',\n",
    "        'Teal',\n",
    "        'Olive',\n",
    "        'Navy',\n",
    "        'Maroon',\n",
    "        'Coral',\n",
    "        'Gold',\n",
    "        'Indigo',\n",
    "        'Turquoise',\n",
    "        'Lavender',\n",
    "        'Mint',\n",
    "        'Silver',\n",
    "        ]\n",
    "    if names:\n",
    "        for ik, y_ in enumerate(y):\n",
    "            trace.append(go.Scatter(x=np.arange(len(y_)) if X==None else X, y=y_, mode='lines', name=names[ik], line=dict(color=colors[ik]), opacity=0.5))\n",
    "    else:\n",
    "        for ik, y_ in enumerate(y):\n",
    "            trace.append(go.Scatter(x=np.arange(len(y_)) if X==None else X, y=y_, mode='lines', name=f'arg # {ik + 1}', line=dict(color=colors[ik]), opacity=0.5))\n",
    "    \n",
    "    # Combining both traces into one figure\n",
    "    fig = go.Figure(data=trace,)\n",
    "\n",
    "    # Setting the layout\n",
    "    fig.update_layout(\n",
    "        title='Two Line Charts on One Plot',\n",
    "        xaxis_title='X-axis',\n",
    "        yaxis_title='Y-axis',\n",
    "        showlegend=True\n",
    "    )\n",
    "\n",
    "    # Display the plot\n",
    "    fig.show()"
   ]
  },
  {
   "cell_type": "code",
   "execution_count": 4,
   "metadata": {},
   "outputs": [],
   "source": [
    "from src.datasets.mixed_vad_datset import get_datset\n",
    "from src.models.adversarial_models.CNN1d_based import NoiseGenerator\n",
    "from src.models.silero.evaluate_model import validate_silero_vad, print_metrics\n",
    "import src.models.silero.train as tl\n",
    "from src.models.silero.loss import AdversarialLoss"
   ]
  },
  {
   "cell_type": "code",
   "execution_count": 5,
   "metadata": {},
   "outputs": [
    {
     "name": "stdout",
     "output_type": "stream",
     "text": [
      "Loading dataset...\n",
      "Dataset loaded!\n"
     ]
    }
   ],
   "source": [
    "print('Loading dataset...')\n",
    "train_ds = get_datset(mode='train', erase_silence=True)\n",
    "eval_ds = get_datset(mode='eval', erase_silence=True)\n",
    "print('Dataset loaded!')"
   ]
  },
  {
   "cell_type": "code",
   "execution_count": 5,
   "metadata": {},
   "outputs": [
    {
     "name": "stderr",
     "output_type": "stream",
     "text": [
      "/home/rr/anaconda3/envs/aaml/lib/python3.11/site-packages/torch/hub.py:293: UserWarning: You are about to download and run code from an untrusted repository. In a future release, this won't be allowed. To add the repository to your trusted list, change the command to {calling_fn}(..., trust_repo=False) and a command prompt will appear asking for an explicit confirmation of trust, or load(..., trust_repo=True), which will assume that the prompt is to be answered with 'yes'. You can also use load(..., trust_repo='check') which will only prompt for confirmation if the repo is not already trusted. This will eventually be the default behaviour\n",
      "  warnings.warn(\n",
      "Downloading: \"https://github.com/snakers4/silero-vad/zipball/master\" to /home/rr/.cache/torch/hub/master.zip\n"
     ]
    },
    {
     "name": "stdout",
     "output_type": "stream",
     "text": [
      "RecursiveScriptModule(\n",
      "  original_name=VADRNNJITMerge\n",
      "  (_model): RecursiveScriptModule(\n",
      "    original_name=VADRNNJIT\n",
      "    (stft): RecursiveScriptModule(\n",
      "      original_name=STFT\n",
      "      (padding): RecursiveScriptModule(original_name=ReflectionPad1d)\n",
      "    )\n",
      "    (encoder): RecursiveScriptModule(\n",
      "      original_name=Sequential\n",
      "      (0): RecursiveScriptModule(\n",
      "        original_name=SileroVadBlock\n",
      "        (se): RecursiveScriptModule(original_name=Identity)\n",
      "        (activation): RecursiveScriptModule(original_name=ReLU)\n",
      "        (reparam_conv): RecursiveScriptModule(original_name=Conv1d)\n",
      "      )\n",
      "      (1): RecursiveScriptModule(\n",
      "        original_name=SileroVadBlock\n",
      "        (se): RecursiveScriptModule(original_name=Identity)\n",
      "        (activation): RecursiveScriptModule(original_name=ReLU)\n",
      "        (reparam_conv): RecursiveScriptModule(original_name=Conv1d)\n",
      "      )\n",
      "      (2): RecursiveScriptModule(\n",
      "        original_name=SileroVadBlock\n",
      "        (se): RecursiveScriptModule(original_name=Identity)\n",
      "        (activation): RecursiveScriptModule(original_name=ReLU)\n",
      "        (reparam_conv): RecursiveScriptModule(original_name=Conv1d)\n",
      "      )\n",
      "      (3): RecursiveScriptModule(\n",
      "        original_name=SileroVadBlock\n",
      "        (se): RecursiveScriptModule(original_name=Identity)\n",
      "        (activation): RecursiveScriptModule(original_name=ReLU)\n",
      "        (reparam_conv): RecursiveScriptModule(original_name=Conv1d)\n",
      "      )\n",
      "    )\n",
      "    (decoder): RecursiveScriptModule(\n",
      "      original_name=VADDecoderRNNJIT\n",
      "      (rnn): RecursiveScriptModule(original_name=LSTMCell)\n",
      "      (decoder): RecursiveScriptModule(\n",
      "        original_name=Sequential\n",
      "        (0): RecursiveScriptModule(original_name=Dropout)\n",
      "        (1): RecursiveScriptModule(original_name=ReLU)\n",
      "        (2): RecursiveScriptModule(original_name=Conv1d)\n",
      "        (3): RecursiveScriptModule(original_name=Sigmoid)\n",
      "      )\n",
      "    )\n",
      "  )\n",
      "  (_model_8k): RecursiveScriptModule(\n",
      "    original_name=VADRNNJIT\n",
      "    (stft): RecursiveScriptModule(\n",
      "      original_name=STFT\n",
      "      (padding): RecursiveScriptModule(original_name=ReflectionPad1d)\n",
      "    )\n",
      "    (encoder): RecursiveScriptModule(\n",
      "      original_name=Sequential\n",
      "      (0): RecursiveScriptModule(\n",
      "        original_name=SileroVadBlock\n",
      "        (se): RecursiveScriptModule(original_name=Identity)\n",
      "        (activation): RecursiveScriptModule(original_name=ReLU)\n",
      "        (reparam_conv): RecursiveScriptModule(original_name=Conv1d)\n",
      "      )\n",
      "      (1): RecursiveScriptModule(\n",
      "        original_name=SileroVadBlock\n",
      "        (se): RecursiveScriptModule(original_name=Identity)\n",
      "        (activation): RecursiveScriptModule(original_name=ReLU)\n",
      "        (reparam_conv): RecursiveScriptModule(original_name=Conv1d)\n",
      "      )\n",
      "      (2): RecursiveScriptModule(\n",
      "        original_name=SileroVadBlock\n",
      "        (se): RecursiveScriptModule(original_name=Identity)\n",
      "        (activation): RecursiveScriptModule(original_name=ReLU)\n",
      "        (reparam_conv): RecursiveScriptModule(original_name=Conv1d)\n",
      "      )\n",
      "      (3): RecursiveScriptModule(\n",
      "        original_name=SileroVadBlock\n",
      "        (se): RecursiveScriptModule(original_name=Identity)\n",
      "        (activation): RecursiveScriptModule(original_name=ReLU)\n",
      "        (reparam_conv): RecursiveScriptModule(original_name=Conv1d)\n",
      "      )\n",
      "    )\n",
      "    (decoder): RecursiveScriptModule(\n",
      "      original_name=VADDecoderRNNJIT\n",
      "      (rnn): RecursiveScriptModule(original_name=LSTMCell)\n",
      "      (decoder): RecursiveScriptModule(\n",
      "        original_name=Sequential\n",
      "        (0): RecursiveScriptModule(original_name=Dropout)\n",
      "        (1): RecursiveScriptModule(original_name=ReLU)\n",
      "        (2): RecursiveScriptModule(original_name=Conv1d)\n",
      "        (3): RecursiveScriptModule(original_name=Sigmoid)\n",
      "      )\n",
      "    )\n",
      "  )\n",
      ")\n"
     ]
    }
   ],
   "source": [
    "model, utils = torch.hub.load(repo_or_dir='snakers4/silero-vad', model='silero_vad')\n",
    "print(model)"
   ]
  },
  {
   "cell_type": "code",
   "execution_count": 7,
   "metadata": {},
   "outputs": [
    {
     "name": "stdout",
     "output_type": "stream",
     "text": [
      "Noise producer model has 462594 parametes\n"
     ]
    }
   ],
   "source": [
    "print(f'Noise producer model has {sum(p.numel() for p in model.parameters())} parametes')\n"
   ]
  },
  {
   "cell_type": "code",
   "execution_count": 9,
   "metadata": {},
   "outputs": [],
   "source": [
    "device = torch.device('cuda:0' if torch.cuda.is_available() else 'cpu')\n",
    "model = model.to(device)"
   ]
  },
  {
   "cell_type": "code",
   "execution_count": 10,
   "metadata": {},
   "outputs": [],
   "source": [
    "amodel = NoiseGenerator()"
   ]
  },
  {
   "cell_type": "code",
   "execution_count": 11,
   "metadata": {},
   "outputs": [
    {
     "name": "stdout",
     "output_type": "stream",
     "text": [
      "NoiseGenerator(\n",
      "  (encoder): ModuleList(\n",
      "    (0): Sequential(\n",
      "      (0): Conv1d(1, 32, kernel_size=(1601,), stride=(2,), padding=(800,))\n",
      "      (1): InstanceNorm1d(32, eps=1e-05, momentum=0.1, affine=False, track_running_stats=False)\n",
      "      (2): LeakyReLU(negative_slope=0.2)\n",
      "    )\n",
      "    (1): Sequential(\n",
      "      (0): Conv1d(32, 64, kernel_size=(801,), stride=(2,), padding=(400,))\n",
      "      (1): InstanceNorm1d(64, eps=1e-05, momentum=0.1, affine=False, track_running_stats=False)\n",
      "      (2): LeakyReLU(negative_slope=0.2)\n",
      "    )\n",
      "    (2): Sequential(\n",
      "      (0): Conv1d(64, 128, kernel_size=(401,), stride=(2,), padding=(200,))\n",
      "      (1): InstanceNorm1d(128, eps=1e-05, momentum=0.1, affine=False, track_running_stats=False)\n",
      "      (2): LeakyReLU(negative_slope=0.2)\n",
      "    )\n",
      "    (3): Sequential(\n",
      "      (0): Conv1d(128, 256, kernel_size=(201,), stride=(2,), padding=(100,))\n",
      "      (1): InstanceNorm1d(256, eps=1e-05, momentum=0.1, affine=False, track_running_stats=False)\n",
      "      (2): LeakyReLU(negative_slope=0.2)\n",
      "    )\n",
      "  )\n",
      "  (residual_blocks): ModuleList(\n",
      "    (0-2): 3 x ResidualBlock(\n",
      "      (block): Sequential(\n",
      "        (0): Conv1d(256, 256, kernel_size=(3,), stride=(1,), padding=(1,))\n",
      "        (1): InstanceNorm1d(256, eps=1e-05, momentum=0.1, affine=False, track_running_stats=False)\n",
      "        (2): LeakyReLU(negative_slope=0.2)\n",
      "        (3): Conv1d(256, 256, kernel_size=(3,), stride=(1,), padding=(1,))\n",
      "        (4): InstanceNorm1d(256, eps=1e-05, momentum=0.1, affine=False, track_running_stats=False)\n",
      "      )\n",
      "    )\n",
      "  )\n",
      "  (decoder): ModuleList(\n",
      "    (0): Sequential(\n",
      "      (0): ConvTranspose1d(256, 128, kernel_size=(200,), stride=(2,), padding=(99,), output_padding=(1,))\n",
      "      (1): InstanceNorm1d(128, eps=1e-05, momentum=0.1, affine=False, track_running_stats=False)\n",
      "      (2): LeakyReLU(negative_slope=0.2)\n",
      "    )\n",
      "    (1): Sequential(\n",
      "      (0): ConvTranspose1d(128, 64, kernel_size=(400,), stride=(2,), padding=(199,), output_padding=(1,))\n",
      "      (1): InstanceNorm1d(64, eps=1e-05, momentum=0.1, affine=False, track_running_stats=False)\n",
      "      (2): LeakyReLU(negative_slope=0.2)\n",
      "    )\n",
      "    (2): Sequential(\n",
      "      (0): ConvTranspose1d(64, 32, kernel_size=(800,), stride=(2,), padding=(399,), output_padding=(1,))\n",
      "      (1): InstanceNorm1d(32, eps=1e-05, momentum=0.1, affine=False, track_running_stats=False)\n",
      "      (2): LeakyReLU(negative_slope=0.2)\n",
      "    )\n",
      "    (3): Sequential(\n",
      "      (0): ConvTranspose1d(32, 32, kernel_size=(1600,), stride=(2,), padding=(799,), output_padding=(1,))\n",
      "      (1): InstanceNorm1d(32, eps=1e-05, momentum=0.1, affine=False, track_running_stats=False)\n",
      "      (2): LeakyReLU(negative_slope=0.2)\n",
      "    )\n",
      "  )\n",
      "  (final_conv): Sequential(\n",
      "    (0): Conv1d(32, 1, kernel_size=(1601,), stride=(1,), padding=(800,))\n",
      "    (1): Tanh()\n",
      "  )\n",
      ")\n"
     ]
    }
   ],
   "source": [
    "print(amodel) "
   ]
  },
  {
   "cell_type": "code",
   "execution_count": 12,
   "metadata": {},
   "outputs": [
    {
     "name": "stderr",
     "output_type": "stream",
     "text": [
      "  0%|          | 1/262 [00:00<00:59,  4.36it/s]/home/timur.bikbulatov/personal/aa_on_vad/src/datasets/urbansound.py:27: UserWarning: To copy construct from a tensor, it is recommended to use sourceTensor.clone().detach() or sourceTensor.clone().detach().requires_grad_(True), rather than torch.tensor(sourceTensor).\n",
      "  audio = torch.tensor(self.audios[idx], dtype=torch.float32)\n",
      "100%|██████████| 262/262 [00:13<00:00, 18.73it/s]\n"
     ]
    },
    {
     "name": "stdout",
     "output_type": "stream",
     "text": [
      "precision: 0.8369\n",
      "recall: 0.9049\n",
      "f1_score: 0.8696\n",
      "accuracy: 0.8867\n",
      "false_positive_rate: 0.1264\n",
      "true_positive_rate: 0.9049\n",
      "roc_auc: 0.8892\n"
     ]
    }
   ],
   "source": [
    "metrics = validate_silero_vad(\n",
    "        model,\n",
    "        eval_ds,\n",
    "        1,\n",
    "        # noise_producer,\n",
    "    )\n",
    "print_metrics(metrics)"
   ]
  },
  {
   "cell_type": "code",
   "execution_count": 61,
   "metadata": {},
   "outputs": [
    {
     "data": {
      "text/plain": [
       "<module 'src.models.silero.train' from '/home/timur.bikbulatov/personal/aa_on_vad/src/models/silero/train.py'>"
      ]
     },
     "execution_count": 61,
     "metadata": {},
     "output_type": "execute_result"
    }
   ],
   "source": [
    "import importlib\n",
    "importlib.reload(tl)"
   ]
  },
  {
   "cell_type": "code",
   "execution_count": 9,
   "metadata": {},
   "outputs": [
    {
     "name": "stdout",
     "output_type": "stream",
     "text": [
      "Noise producer model has 25903393 parametes\n"
     ]
    },
    {
     "name": "stderr",
     "output_type": "stream",
     "text": [
      "Epoch 0:   0%|          | 0/66 [00:00<?, ?it/s]"
     ]
    },
    {
     "name": "stderr",
     "output_type": "stream",
     "text": [
      "/home/timur.bikbulatov/personal/aa_on_vad/src/datasets/urbansound.py:27: UserWarning: To copy construct from a tensor, it is recommended to use sourceTensor.clone().detach() or sourceTensor.clone().detach().requires_grad_(True), rather than torch.tensor(sourceTensor).\n",
      "  audio = torch.tensor(self.audios[idx], dtype=torch.float32)\n",
      "Epoch 0: 100%|██████████| 66/66 [03:28<00:00,  3.16s/it, loss=0.0177]\n"
     ]
    },
    {
     "name": "stdout",
     "output_type": "stream",
     "text": [
      "Epoch 0: Train Loss = 0.0311\n"
     ]
    },
    {
     "name": "stderr",
     "output_type": "stream",
     "text": [
      "Evaluation: 100%|██████████| 9/9 [00:12<00:00,  1.37s/it]\n"
     ]
    },
    {
     "name": "stdout",
     "output_type": "stream",
     "text": [
      "Epoch 0: Eval Loss = 0.2677\n"
     ]
    },
    {
     "name": "stderr",
     "output_type": "stream",
     "text": [
      "Epoch 1: 100%|██████████| 66/66 [03:28<00:00,  3.17s/it, loss=0.0002] \n"
     ]
    },
    {
     "name": "stdout",
     "output_type": "stream",
     "text": [
      "Epoch 1: Train Loss = 0.0035\n"
     ]
    },
    {
     "name": "stderr",
     "output_type": "stream",
     "text": [
      "Evaluation: 100%|██████████| 9/9 [00:12<00:00,  1.37s/it]\n"
     ]
    },
    {
     "name": "stdout",
     "output_type": "stream",
     "text": [
      "Epoch 1: Eval Loss = 0.0038\n"
     ]
    },
    {
     "name": "stderr",
     "output_type": "stream",
     "text": [
      "Epoch 2: 100%|██████████| 66/66 [03:28<00:00,  3.17s/it, loss=-0.0184]\n"
     ]
    },
    {
     "name": "stdout",
     "output_type": "stream",
     "text": [
      "Epoch 2: Train Loss = -0.0012\n"
     ]
    },
    {
     "name": "stderr",
     "output_type": "stream",
     "text": [
      "Evaluation: 100%|██████████| 9/9 [00:12<00:00,  1.38s/it]"
     ]
    },
    {
     "name": "stdout",
     "output_type": "stream",
     "text": [
      "Epoch 2: Eval Loss = -0.1288\n"
     ]
    },
    {
     "name": "stderr",
     "output_type": "stream",
     "text": [
      "\n"
     ]
    }
   ],
   "source": [
    "tl.train_noise_producer(\n",
    "        amodel,\n",
    "        model,\n",
    "        train_ds,\n",
    "        eval_ds,\n",
    "        epochs=3,\n",
    "        criterion=AdversarialLoss(alpha=10)\n",
    "    )"
   ]
  },
  {
   "cell_type": "code",
   "execution_count": 10,
   "metadata": {},
   "outputs": [
    {
     "name": "stderr",
     "output_type": "stream",
     "text": [
      "100%|██████████| 9/9 [00:30<00:00,  3.34s/it]\n"
     ]
    },
    {
     "name": "stdout",
     "output_type": "stream",
     "text": [
      "precision: 0.7866\n",
      "recall: 0.4122\n",
      "f1_score: 0.5409\n",
      "accuracy: 0.7079\n",
      "false_positive_rate: 0.0802\n",
      "true_positive_rate: 0.4122\n",
      "roc_auc: 0.6660\n"
     ]
    }
   ],
   "source": [
    "metrics = validate_silero_vad(\n",
    "        model,\n",
    "        eval_ds,\n",
    "        32,\n",
    "        amodel,\n",
    "    )\n",
    "print_metrics(metrics)"
   ]
  },
  {
   "cell_type": "code",
   "execution_count": null,
   "metadata": {},
   "outputs": [],
   "source": [
    "i=9\n",
    "wav = eval_ds[i]['sample']\n",
    "mask = eval_ds[i]['mask']\n",
    "noise = amodel(wav.unsqueeze(0).to(device)).detach().cpu()\n",
    "plot([wav, mask, noise[0], wav+noise[0]])"
   ]
  },
  {
   "cell_type": "code",
   "execution_count": null,
   "metadata": {},
   "outputs": [],
   "source": [
    "play(wav+amodel(wav.unsqueeze(0).to(device)).detach().cpu())"
   ]
  },
  {
   "cell_type": "code",
   "execution_count": null,
   "metadata": {},
   "outputs": [],
   "source": [
    "play(noise)"
   ]
  },
  {
   "cell_type": "code",
   "execution_count": 67,
   "metadata": {},
   "outputs": [
    {
     "data": {
      "text/plain": [
       "torch.Size([96000])"
      ]
     },
     "execution_count": 67,
     "metadata": {},
     "output_type": "execute_result"
    }
   ],
   "source": [
    "wav.shape"
   ]
  },
  {
   "cell_type": "code",
   "execution_count": 14,
   "metadata": {},
   "outputs": [],
   "source": [
    "from src.datasets.librispeech import LibriSpeechWrapper\n",
    "import torchaudio"
   ]
  },
  {
   "cell_type": "code",
   "execution_count": 15,
   "metadata": {},
   "outputs": [
    {
     "name": "stderr",
     "output_type": "stream",
     "text": [
      "100%|██████████| 331M/331M [00:36<00:00, 9.44MB/s] \n"
     ]
    }
   ],
   "source": [
    "ds = LibriSpeechWrapper(\n",
    "    torchaudio.datasets.LIBRISPEECH(root='datasets/torchlibri',\n",
    "                                     url ='test-clean',\n",
    "                                     download=True),\n",
    "                                     sample_rate=16000,\n",
    "                                    remove_silence_on_edges=False, \n",
    "                                    erase_silence=True, \n",
    "                                    apply_vad=False)\n"
   ]
  },
  {
   "cell_type": "code",
   "execution_count": 17,
   "metadata": {},
   "outputs": [
    {
     "data": {
      "text/plain": [
       "{'sample': tensor([ 0.0005, -0.0004, -0.0058,  ...,  0.0026, -0.0023, -0.0124]),\n",
       " 'sample_rate': 16000,\n",
       " 'Transcript': 'HE HOPED THERE WOULD BE STEW FOR DINNER TURNIPS AND CARROTS AND BRUISED POTATOES AND FAT MUTTON PIECES TO BE LADLED OUT IN THICK PEPPERED FLOUR FATTENED SAUCE',\n",
       " 'speaker_id': 1089,\n",
       " 'Chapter ID': 134686,\n",
       " 'Utterance ID': 0}"
      ]
     },
     "execution_count": 17,
     "metadata": {},
     "output_type": "execute_result"
    }
   ],
   "source": [
    "ds[0]['sample']"
   ]
  },
  {
   "cell_type": "code",
   "execution_count": 19,
   "metadata": {},
   "outputs": [
    {
     "data": {
      "text/plain": [
       "2620"
      ]
     },
     "execution_count": 19,
     "metadata": {},
     "output_type": "execute_result"
    }
   ],
   "source": [
    "len(ds)"
   ]
  },
  {
   "cell_type": "code",
   "execution_count": 22,
   "metadata": {},
   "outputs": [],
   "source": [
    "import numpy as np\n",
    "\n",
    "def white_noise(n):\n",
    "    white = np.random.normal(0, 1, n) \n",
    "    return white / np.max(white)\n",
    "\n",
    "def pink_noise(n):\n",
    "    num_columns = int(np.ceil(np.log2(n)))\n",
    "    array = np.random.normal(0, 1, (num_columns, int(np.ceil(n / num_columns))))\n",
    "    pink = array.cumsum(axis=0) / np.sqrt(num_columns)\n",
    "    pink = pink.flatten()[:n]\n",
    "    return pink / np.max(pink)\n",
    "\n",
    "def generate_signal(freq, n, sample_rate=8000):\n",
    "    \"\"\"\n",
    "    Generate a sinusoidal signal at a given frequency.\n",
    "\n",
    "    Parameters:\n",
    "        freq (float): Frequency of the sinusoidal signal in Hz.\n",
    "        n (int): Length of the output array (number of samples).\n",
    "        sample_rate (int): Sampling rate in Hz (default is 8000 Hz).\n",
    "\n",
    "    Returns:\n",
    "        np.ndarray: Array representing the sinusoidal signal.\n",
    "    \"\"\"\n",
    "    t = np.linspace(0, n / sample_rate, n, endpoint=False)\n",
    "    signal = np.sin(2 * np.pi * freq * t)\n",
    "    return signal"
   ]
  },
  {
   "cell_type": "code",
   "execution_count": 98,
   "metadata": {},
   "outputs": [],
   "source": [
    "wav = np.concatenate([\n",
    "        white_noise(16000) / 10,\n",
    "        ds[0]['sample'][:16000].numpy(),\n",
    "        pink_noise(16000*2)/ 10,\n",
    "        ds[0]['sample'][:-16000*2].numpy(),\n",
    "])\n",
    "mask = np.zeros(wav.shape, dtype=np.float32)\n",
    "mask[16000:16000*2] = 1\n",
    "mask[4*16000:] = 1\n",
    "\n",
    "noise = np.zeros(wav.shape, dtype=np.float32)\n",
    "noise[0::4] = 1\n",
    "noise[1::4] = 0\n",
    "noise[2::4] = -1\n",
    "noise[3::4] = 0\n",
    "noise = noise * 0.02\n",
    "\n",
    "x = np.linspace(0, np.pi, 4000)\n",
    "\n",
    "def sigmoid(x, k):\n",
    "    return 1 / (1 + np.exp(-k * x))\n",
    "k = 5\n",
    "u = sigmoid(np.sin(x), k)\n",
    "noise[16000:20000] = 10 * noise[16000:20000] + u / 2"
   ]
  },
  {
   "cell_type": "code",
   "execution_count": null,
   "metadata": {},
   "outputs": [],
   "source": [
    "plot([wav, mask, noise], ['Запись', 'Маска', 'Шум'])\n"
   ]
  },
  {
   "cell_type": "code",
   "execution_count": null,
   "metadata": {},
   "outputs": [],
   "source": [
    "# Define x values\n",
    "x = np.linspace(0, 10, 1000)\n",
    "\n",
    "# Sigmoid function\n",
    "def sigmoid(x, k):\n",
    "    return 1 / (1 + np.exp(-k * x))\n",
    "\n",
    "# Create a smoothed square wave using sigmoid\n",
    "k = 5  # Controls the sharpness of the transition (higher k = sharper)\n",
    "u = sigmoid(np.sin(x), k)\n",
    "plot([u])"
   ]
  },
  {
   "cell_type": "code",
   "execution_count": null,
   "metadata": {},
   "outputs": [],
   "source": []
  },
  {
   "cell_type": "code",
   "execution_count": null,
   "metadata": {},
   "outputs": [],
   "source": []
  }
 ],
 "metadata": {
  "kernelspec": {
   "display_name": "aaml",
   "language": "python",
   "name": "python3"
  },
  "language_info": {
   "codemirror_mode": {
    "name": "ipython",
    "version": 3
   },
   "file_extension": ".py",
   "mimetype": "text/x-python",
   "name": "python",
   "nbconvert_exporter": "python",
   "pygments_lexer": "ipython3",
   "version": "3.11.9"
  }
 },
 "nbformat": 4,
 "nbformat_minor": 2
}
